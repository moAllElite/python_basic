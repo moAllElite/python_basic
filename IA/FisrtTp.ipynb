{
 "cells": [
  {
   "cell_type": "code",
   "execution_count": 3,
   "id": "db8cdd13",
   "metadata": {},
   "outputs": [],
   "source": [
    "import os\n",
    "#os.chdir(\"C:/xsrc/seytoo.sql\")"
   ]
  },
  {
   "cell_type": "code",
   "execution_count": 4,
   "id": "1686ef3b",
   "metadata": {},
   "outputs": [],
   "source": [
    "#os.getcwd()"
   ]
  },
  {
   "cell_type": "code",
   "execution_count": 5,
   "id": "06a831f7",
   "metadata": {},
   "outputs": [
    {
     "data": {
      "text/plain": [
       "'C:\\\\xsrc\\\\sample'"
      ]
     },
     "execution_count": 5,
     "metadata": {},
     "output_type": "execute_result"
    }
   ],
   "source": [
    "os.getcwd()"
   ]
  },
  {
   "cell_type": "code",
   "execution_count": 6,
   "id": "635206cd",
   "metadata": {},
   "outputs": [
    {
     "data": {
      "text/plain": [
       "121924343"
      ]
     },
     "execution_count": 6,
     "metadata": {},
     "output_type": "execute_result"
    }
   ],
   "source": [
    "os.path.getsize(\"C:\\\\xsrc\\\\seytoo.sql\")"
   ]
  },
  {
   "cell_type": "code",
   "execution_count": 7,
   "id": "3c783939",
   "metadata": {},
   "outputs": [
    {
     "data": {
      "text/plain": [
       "('C:\\\\xsrc\\\\sample', 'service.txt')"
      ]
     },
     "execution_count": 7,
     "metadata": {},
     "output_type": "execute_result"
    }
   ],
   "source": [
    "way=\"C:\\\\xsrc\\\\sample\\\\service.txt\"\n",
    "os.path.dirname(way) ,os.path.basename(way)"
   ]
  },
  {
   "cell_type": "code",
   "execution_count": null,
   "id": "760a7499",
   "metadata": {},
   "outputs": [],
   "source": [
    "os.path.split(way)"
   ]
  },
  {
   "cell_type": "code",
   "execution_count": 8,
   "id": "196d7e51",
   "metadata": {},
   "outputs": [
    {
     "data": {
      "text/plain": [
       "['log', 'README_DO_NOT_TOUCH_FILES.txt', 'seg0', 'service.properties']"
      ]
     },
     "execution_count": 8,
     "metadata": {},
     "output_type": "execute_result"
    }
   ],
   "source": [
    "os.listdir(\"C:\\\\xsrc\\\\sample\")"
   ]
  },
  {
   "cell_type": "code",
   "execution_count": 9,
   "id": "203af17e",
   "metadata": {},
   "outputs": [
    {
     "data": {
      "text/plain": [
       "True"
      ]
     },
     "execution_count": 9,
     "metadata": {},
     "output_type": "execute_result"
    }
   ],
   "source": [
    "os.path.exists(\"C:\\\\users\")"
   ]
  },
  {
   "cell_type": "code",
   "execution_count": 10,
   "id": "0305aca3",
   "metadata": {},
   "outputs": [
    {
     "data": {
      "text/plain": [
       "False"
      ]
     },
     "execution_count": 10,
     "metadata": {},
     "output_type": "execute_result"
    }
   ],
   "source": [
    "os.path.exists(\"C:\\\\all\")"
   ]
  },
  {
   "cell_type": "code",
   "execution_count": 12,
   "id": "092bcde3",
   "metadata": {},
   "outputs": [
    {
     "data": {
      "text/plain": [
       "('C:\\\\xsrc\\\\sample', 'service.txt')"
      ]
     },
     "execution_count": 12,
     "metadata": {},
     "output_type": "execute_result"
    }
   ],
   "source": [
    "os.path.dirname(way) ,os.path.basename(way)"
   ]
  }
 ],
 "metadata": {
  "kernelspec": {
   "display_name": "base",
   "language": "python",
   "name": "python3"
  },
  "language_info": {
   "codemirror_mode": {
    "name": "ipython",
    "version": 3
   },
   "file_extension": ".py",
   "mimetype": "text/x-python",
   "name": "python",
   "nbconvert_exporter": "python",
   "pygments_lexer": "ipython3",
   "version": "3.9.13"
  },
  "vscode": {
   "interpreter": {
    "hash": "ad2bdc8ecc057115af97d19610ffacc2b4e99fae6737bb82f5d7fb13d2f2c186"
   }
  }
 },
 "nbformat": 4,
 "nbformat_minor": 5
}
